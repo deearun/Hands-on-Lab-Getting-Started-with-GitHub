{
  "metadata": {
    "kernelspec": {
      "name": "python",
      "display_name": "Python (Pyodide)",
      "language": "python"
    },
    "language_info": {
      "codemirror_mode": {
        "name": "python",
        "version": 3
      },
      "file_extension": ".py",
      "mimetype": "text/x-python",
      "name": "python",
      "nbconvert_exporter": "python",
      "pygments_lexer": "ipython3",
      "version": "3.8"
    }
  },
  "nbformat_minor": 4,
  "nbformat": 4,
  "cells": [
    {
      "cell_type": "markdown",
      "source": "#Create a markdown cell with the title Data Science Tools and Ecosystem using H1 style heading.#\n# Data Science Tools and Ecosystem",
      "metadata": {
        "jupyter": {
          "source_hidden": true
        }
      }
    },
    {
      "cell_type": "markdown",
      "source": "**Objectives**\n* List popular languages for Data Science\n* List commonly used data science libraries\n* List commonly used data science tools\n* How to evaluate arithmetic expressions in Python",
      "metadata": {}
    },
    {
      "cell_type": "markdown",
      "source": "# Write an introductory sentence about the notebook\n'In this notebook, Data Science Tools and Ecosystem are summarized.'",
      "metadata": {}
    },
    {
      "cell_type": "markdown",
      "source": "#Create a markdown cell to list data science languages#\n'Some of the popular languages that Data Scientists use are:'\n1. Python\n2. Java\n3. SQL\n3. C",
      "metadata": {}
    },
    {
      "cell_type": "markdown",
      "source": "#Create a markdown cell to list data science libraries#\n' Some of the commonly used libraries used by Data Scientists include:'\n1. NumPy\n2. Pandas\n3. Plotly",
      "metadata": {}
    },
    {
      "cell_type": "markdown",
      "source": "# Create a markdown cell with a table of Data Science tools\n| Data Science Tools |\n| ------ | \n| Google Colab |\n| Jupyter Notebooks |\n| RStudio | \n",
      "metadata": {}
    },
    {
      "cell_type": "markdown",
      "source": "### Below are a few examples of evaluating arithmetic expressions in Python.\n ",
      "metadata": {}
    },
    {
      "cell_type": "code",
      "source": "#This a simple arithmetic expression to mutiply then add integers.\n(3*4)+5",
      "metadata": {
        "trusted": true
      },
      "outputs": [
        {
          "execution_count": 9,
          "output_type": "execute_result",
          "data": {
            "text/plain": "17"
          },
          "metadata": {}
        }
      ],
      "execution_count": 9
    },
    {
      "cell_type": "code",
      "source": "#This will convert 200 minutes to hours by diving by 60.\n200/60",
      "metadata": {
        "trusted": true
      },
      "outputs": [
        {
          "execution_count": 11,
          "output_type": "execute_result",
          "data": {
            "text/plain": "3.3333333333333335"
          },
          "metadata": {}
        }
      ],
      "execution_count": 11
    },
    {
      "cell_type": "markdown",
      "source": "## Author\nDeepali Arun",
      "metadata": {}
    },
    {
      "cell_type": "markdown",
      "source": "",
      "metadata": {}
    }
  ]
}